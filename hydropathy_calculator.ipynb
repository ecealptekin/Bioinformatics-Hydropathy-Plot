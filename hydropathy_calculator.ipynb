{
  "nbformat": 4,
  "nbformat_minor": 0,
  "metadata": {
    "celltoolbar": "Attachments",
    "kernelspec": {
      "display_name": "Python 3",
      "language": "python",
      "name": "python3"
    },
    "language_info": {
      "codemirror_mode": {
        "name": "ipython",
        "version": 3
      },
      "file_extension": ".py",
      "mimetype": "text/x-python",
      "name": "python",
      "nbconvert_exporter": "python",
      "pygments_lexer": "ipython3",
      "version": "3.7.4"
    },
    "colab": {
      "name": "hydropathy_calculator.ipynb",
      "provenance": [],
      "include_colab_link": true
    }
  },
  "cells": [
    {
      "cell_type": "markdown",
      "metadata": {
        "id": "view-in-github",
        "colab_type": "text"
      },
      "source": [
        "<a href=\"https://colab.research.google.com/github/ecealptekin/Biology/blob/master/hydropathy_calculator.ipynb\" target=\"_parent\"><img src=\"https://colab.research.google.com/assets/colab-badge.svg\" alt=\"Open In Colab\"/></a>"
      ]
    },
    {
      "cell_type": "markdown",
      "metadata": {
        "id": "1sromIPJyhii",
        "colab_type": "text"
      },
      "source": [
        "# Ece Alptekin\n",
        "# 24156\n",
        "# BIO310 Introduction to Bioinformatics\n",
        "# Computer Lab 1 and Homework 1 Spring 2020"
      ]
    },
    {
      "cell_type": "markdown",
      "metadata": {
        "id": "OU2q613syhij",
        "colab_type": "text"
      },
      "source": [
        "# Part 2 - Calculating Amino Acid Frequencies"
      ]
    },
    {
      "cell_type": "code",
      "metadata": {
        "id": "i-5TG7qRyhij",
        "colab_type": "code",
        "colab": {}
      },
      "source": [
        "from Bio import SeqIO\n",
        "from matplotlib import pyplot as plt\n",
        "from collections import Counter\n",
        "import json\n",
        "from collections import OrderedDict"
      ],
      "execution_count": 0,
      "outputs": []
    },
    {
      "cell_type": "markdown",
      "metadata": {
        "id": "Idc9HQIryhin",
        "colab_type": "text"
      },
      "source": [
        "### Getting the fasta file"
      ]
    },
    {
      "cell_type": "code",
      "metadata": {
        "id": "t-lgpLDEyhin",
        "colab_type": "code",
        "colab": {}
      },
      "source": [
        "for seq_record in SeqIO.parse(\"P08100.fasta.txt\", \"fasta\"):\n",
        "    seq = seq_record.seq"
      ],
      "execution_count": 0,
      "outputs": []
    },
    {
      "cell_type": "code",
      "metadata": {
        "id": "dpvD07viyhiq",
        "colab_type": "code",
        "colab": {},
        "outputId": "6c5b2a5a-1d80-4dca-8612-53181fb989cc"
      },
      "source": [
        "print(seq_record)"
      ],
      "execution_count": 0,
      "outputs": [
        {
          "output_type": "stream",
          "text": [
            "ID: sp|P08100|OPSD_HUMAN\n",
            "Name: sp|P08100|OPSD_HUMAN\n",
            "Description: sp|P08100|OPSD_HUMAN Rhodopsin OS=Homo sapiens OX=9606 GN=RHO PE=1 SV=1\n",
            "Number of features: 0\n",
            "Seq('MNGTEGPNFYVPFSNATGVVRSPFEYPQYYLAEPWQFSMLAAYMFLLIVLGFPI...APA', SingleLetterAlphabet())\n"
          ],
          "name": "stdout"
        }
      ]
    },
    {
      "cell_type": "code",
      "metadata": {
        "id": "qrIcXTpVyhit",
        "colab_type": "code",
        "colab": {},
        "outputId": "cc7141dd-c042-4e3b-e472-ab40fb7c8dd5"
      },
      "source": [
        "seq"
      ],
      "execution_count": 0,
      "outputs": [
        {
          "output_type": "execute_result",
          "data": {
            "text/plain": [
              "Seq('MNGTEGPNFYVPFSNATGVVRSPFEYPQYYLAEPWQFSMLAAYMFLLIVLGFPI...APA', SingleLetterAlphabet())"
            ]
          },
          "metadata": {
            "tags": []
          },
          "execution_count": 4
        }
      ]
    },
    {
      "cell_type": "markdown",
      "metadata": {
        "id": "jq8WByIQyhiw",
        "colab_type": "text"
      },
      "source": [
        "### Writing the frequencies in a file with the file extension _aaCount.txt"
      ]
    },
    {
      "cell_type": "code",
      "metadata": {
        "id": "S7dxdEYzyhiw",
        "colab_type": "code",
        "colab": {}
      },
      "source": [
        "with open('P08100_aaCount.txt', 'w') as file:\n",
        "     file.write(json.dumps(Counter(seq)))"
      ],
      "execution_count": 0,
      "outputs": []
    },
    {
      "cell_type": "markdown",
      "metadata": {
        "id": "dJ7mz-49yhiz",
        "colab_type": "text"
      },
      "source": [
        "### Counting the occurrences of amino acids"
      ]
    },
    {
      "cell_type": "code",
      "metadata": {
        "id": "O-G-2Fnzyhiz",
        "colab_type": "code",
        "colab": {},
        "outputId": "4dbc2493-70ce-4b6c-d817-2c2168b86fda"
      },
      "source": [
        "ord = Counter(seq)\n",
        "ord"
      ],
      "execution_count": 0,
      "outputs": [
        {
          "output_type": "execute_result",
          "data": {
            "text/plain": [
              "Counter({'M': 15,\n",
              "         'N': 16,\n",
              "         'G': 22,\n",
              "         'T': 24,\n",
              "         'E': 16,\n",
              "         'P': 20,\n",
              "         'F': 30,\n",
              "         'Y': 19,\n",
              "         'V': 30,\n",
              "         'S': 17,\n",
              "         'A': 32,\n",
              "         'R': 7,\n",
              "         'Q': 12,\n",
              "         'L': 29,\n",
              "         'W': 5,\n",
              "         'I': 24,\n",
              "         'H': 5,\n",
              "         'K': 11,\n",
              "         'D': 4,\n",
              "         'C': 10})"
            ]
          },
          "metadata": {
            "tags": []
          },
          "execution_count": 6
        }
      ]
    },
    {
      "cell_type": "code",
      "metadata": {
        "id": "7QcsDgPDyhi2",
        "colab_type": "code",
        "colab": {},
        "outputId": "fc51e4df-5468-4359-96e2-82e931668455"
      },
      "source": [
        "sort = sorted(ord, key=ord.get,reverse=True)\n",
        "char = []\n",
        "value = []\n",
        "for num in sort:\n",
        "    char.append(num)\n",
        "    value.append(ord[num])\n",
        "    print(num,ord[num])"
      ],
      "execution_count": 0,
      "outputs": [
        {
          "output_type": "stream",
          "text": [
            "A 32\n",
            "F 30\n",
            "V 30\n",
            "L 29\n",
            "T 24\n",
            "I 24\n",
            "G 22\n",
            "P 20\n",
            "Y 19\n",
            "S 17\n",
            "N 16\n",
            "E 16\n",
            "M 15\n",
            "Q 12\n",
            "K 11\n",
            "C 10\n",
            "R 7\n",
            "W 5\n",
            "H 5\n",
            "D 4\n"
          ],
          "name": "stdout"
        }
      ]
    },
    {
      "cell_type": "code",
      "metadata": {
        "id": "LYu9ZY1syhi6",
        "colab_type": "code",
        "colab": {},
        "outputId": "2734f20b-a0c7-48ec-d2d9-46dd98cd7b90"
      },
      "source": [
        "char"
      ],
      "execution_count": 0,
      "outputs": [
        {
          "output_type": "execute_result",
          "data": {
            "text/plain": [
              "['A',\n",
              " 'F',\n",
              " 'V',\n",
              " 'L',\n",
              " 'T',\n",
              " 'I',\n",
              " 'G',\n",
              " 'P',\n",
              " 'Y',\n",
              " 'S',\n",
              " 'N',\n",
              " 'E',\n",
              " 'M',\n",
              " 'Q',\n",
              " 'K',\n",
              " 'C',\n",
              " 'R',\n",
              " 'W',\n",
              " 'H',\n",
              " 'D']"
            ]
          },
          "metadata": {
            "tags": []
          },
          "execution_count": 8
        }
      ]
    },
    {
      "cell_type": "code",
      "metadata": {
        "id": "vVKwtdeByhi8",
        "colab_type": "code",
        "colab": {},
        "outputId": "4e07971e-fd12-4733-aa8b-93b9343f8ec7"
      },
      "source": [
        "value"
      ],
      "execution_count": 0,
      "outputs": [
        {
          "output_type": "execute_result",
          "data": {
            "text/plain": [
              "[32, 30, 30, 29, 24, 24, 22, 20, 19, 17, 16, 16, 15, 12, 11, 10, 7, 5, 5, 4]"
            ]
          },
          "metadata": {
            "tags": []
          },
          "execution_count": 9
        }
      ]
    },
    {
      "cell_type": "markdown",
      "metadata": {
        "id": "7MD2t6jbyhi_",
        "colab_type": "text"
      },
      "source": [
        "### Plot a bar graph to the frequencies (in percentages) in decreasing order"
      ]
    },
    {
      "cell_type": "code",
      "metadata": {
        "id": "14UtxBNQyhi_",
        "colab_type": "code",
        "colab": {},
        "outputId": "89dea1e0-9787-4779-8595-cbd65a3ab8ce"
      },
      "source": [
        "newValue = [(x*100) / sum(value) for x in value]\n",
        "newValue"
      ],
      "execution_count": 0,
      "outputs": [
        {
          "output_type": "execute_result",
          "data": {
            "text/plain": [
              "[9.195402298850574,\n",
              " 8.620689655172415,\n",
              " 8.620689655172415,\n",
              " 8.333333333333334,\n",
              " 6.896551724137931,\n",
              " 6.896551724137931,\n",
              " 6.32183908045977,\n",
              " 5.747126436781609,\n",
              " 5.459770114942529,\n",
              " 4.885057471264368,\n",
              " 4.597701149425287,\n",
              " 4.597701149425287,\n",
              " 4.310344827586207,\n",
              " 3.4482758620689653,\n",
              " 3.160919540229885,\n",
              " 2.8735632183908044,\n",
              " 2.0114942528735633,\n",
              " 1.4367816091954022,\n",
              " 1.4367816091954022,\n",
              " 1.1494252873563218]"
            ]
          },
          "metadata": {
            "tags": []
          },
          "execution_count": 10
        }
      ]
    },
    {
      "cell_type": "code",
      "metadata": {
        "id": "xQyod2bAyhjC",
        "colab_type": "code",
        "colab": {},
        "outputId": "7b9b049d-d83f-4e75-d044-34a7ec9acfc0"
      },
      "source": [
        "plt.bar(char, newValue)\n",
        "plt.ylabel(\"occurrences of amino acids %\")\n",
        "plt.xlabel(\"amino acids\")\n",
        "plt.rcParams.update({'font.size': 14})\n",
        "plt.show()"
      ],
      "execution_count": 0,
      "outputs": [
        {
          "output_type": "display_data",
          "data": {
            "image/png": "[encoded data removed]",
            "text/plain": [
              "<Figure size 432x288 with 1 Axes>"
            ]
          },
          "metadata": {
            "tags": [],
            "needs_background": "light"
          }
        }
      ]
    },
    {
      "cell_type": "markdown",
      "metadata": {
        "id": "Fqch6jsCyhjF",
        "colab_type": "text"
      },
      "source": [
        "# Part 3 - Plotting an Hydropathy Plot"
      ]
    },
    {
      "cell_type": "code",
      "metadata": {
        "scrolled": true,
        "id": "I53fAnUNyhjF",
        "colab_type": "code",
        "colab": {},
        "outputId": "b0b9a310-c08e-44a0-c1c7-ace9dee6ef68"
      },
      "source": [
        "windowsize = int(input(\"Enter the windows size: \"))\n",
        "sequence = input(\"Enter the protein sequence: \")"
      ],
      "execution_count": 0,
      "outputs": [
        {
          "output_type": "stream",
          "text": [
            "Enter the windows size: 3\n",
            "Enter the protein sequence: ABCDEABCDEABCDEABCDEABCDEA\n"
          ],
          "name": "stdout"
        }
      ]
    },
    {
      "cell_type": "markdown",
      "metadata": {
        "id": "feZDfk13yhjI",
        "colab_type": "text"
      },
      "source": [
        "### Reaching Kyte-Doolittle hydrophobicity scores from Kyte-Doolittle.txt"
      ]
    },
    {
      "cell_type": "code",
      "metadata": {
        "id": "uwNot0JKyhjI",
        "colab_type": "code",
        "colab": {},
        "outputId": "519a490f-eb23-4191-91e6-a4c671d97daf"
      },
      "source": [
        "dictionary = {}\n",
        "with open(\"Kyte-Doolittle.txt\") as f:\n",
        "    for line in f:\n",
        "        (key, val) = line.split()\n",
        "        dictionary[key] = float(val)\n",
        "dictionary"
      ],
      "execution_count": 0,
      "outputs": [
        {
          "output_type": "execute_result",
          "data": {
            "text/plain": [
              "{'I': 4.5,\n",
              " 'V': 4.2,\n",
              " 'L': 3.8,\n",
              " 'F': 2.8,\n",
              " 'C': 2.5,\n",
              " 'M': 1.9,\n",
              " 'A': 1.8,\n",
              " 'G': -0.4,\n",
              " 'T': -0.7,\n",
              " 'W': -0.9,\n",
              " 'S': -0.8,\n",
              " 'Y': -1.3,\n",
              " 'P': -1.6,\n",
              " 'H': -3.2,\n",
              " 'E': -3.5,\n",
              " 'Q': -3.5,\n",
              " 'D': -3.5,\n",
              " 'N': -3.5,\n",
              " 'K': -3.9,\n",
              " 'R': -4.5}"
            ]
          },
          "metadata": {
            "tags": []
          },
          "execution_count": 13
        }
      ]
    },
    {
      "cell_type": "markdown",
      "metadata": {
        "id": "X--w_u-iyhjK",
        "colab_type": "text"
      },
      "source": [
        "### Calculating the Kyte-Doolittle hydrophobicity score of each amino acid"
      ]
    },
    {
      "cell_type": "code",
      "metadata": {
        "id": "Us0GypImyhjL",
        "colab_type": "code",
        "colab": {}
      },
      "source": [
        "i = 0 \n",
        "theList = []\n",
        "while(i < len(sequence)):\n",
        "    amino_index = 0.0  \n",
        "    for aminoacid, index in dictionary.items():\n",
        "        if aminoacid == sequence[i]:\n",
        "            amino_index = float(index)  \n",
        "    theList.append(amino_index)\n",
        "    i = i + 1"
      ],
      "execution_count": 0,
      "outputs": []
    },
    {
      "cell_type": "code",
      "metadata": {
        "id": "RKV1kOTZyhjN",
        "colab_type": "code",
        "colab": {},
        "outputId": "f1d71cf0-7a28-467e-a41b-7db030fb08fa"
      },
      "source": [
        "theList"
      ],
      "execution_count": 0,
      "outputs": [
        {
          "output_type": "execute_result",
          "data": {
            "text/plain": [
              "[1.8,\n",
              " 0.0,\n",
              " 2.5,\n",
              " -3.5,\n",
              " -3.5,\n",
              " 1.8,\n",
              " 0.0,\n",
              " 2.5,\n",
              " -3.5,\n",
              " -3.5,\n",
              " 1.8,\n",
              " 0.0,\n",
              " 2.5,\n",
              " -3.5,\n",
              " -3.5,\n",
              " 1.8,\n",
              " 0.0,\n",
              " 2.5,\n",
              " -3.5,\n",
              " -3.5,\n",
              " 1.8,\n",
              " 0.0,\n",
              " 2.5,\n",
              " -3.5,\n",
              " -3.5,\n",
              " 1.8]"
            ]
          },
          "metadata": {
            "tags": []
          },
          "execution_count": 15
        }
      ]
    },
    {
      "cell_type": "markdown",
      "metadata": {
        "id": "Wtb4JYm-yhjP",
        "colab_type": "text"
      },
      "source": [
        "### The amino acid sequence is scanned in successive segments (called windows)"
      ]
    },
    {
      "cell_type": "code",
      "metadata": {
        "id": "aLArAmUFyhjQ",
        "colab_type": "code",
        "colab": {},
        "outputId": "24e42e52-6771-4485-affb-6b7315de083c"
      },
      "source": [
        "from itertools import tee\n",
        "from itertools import islice\n",
        "\n",
        "def window(it, size=3):\n",
        "    yield from zip(*[islice(it, s, None) for s, it in enumerate(tee(it, size))])\n",
        "\n",
        "subList = list(window(theList, windowsize))\n",
        "print(subList)"
      ],
      "execution_count": 0,
      "outputs": [
        {
          "output_type": "stream",
          "text": [
            "[(1.8, 0.0, 2.5), (0.0, 2.5, -3.5), (2.5, -3.5, -3.5), (-3.5, -3.5, 1.8), (-3.5, 1.8, 0.0), (1.8, 0.0, 2.5), (0.0, 2.5, -3.5), (2.5, -3.5, -3.5), (-3.5, -3.5, 1.8), (-3.5, 1.8, 0.0), (1.8, 0.0, 2.5), (0.0, 2.5, -3.5), (2.5, -3.5, -3.5), (-3.5, -3.5, 1.8), (-3.5, 1.8, 0.0), (1.8, 0.0, 2.5), (0.0, 2.5, -3.5), (2.5, -3.5, -3.5), (-3.5, -3.5, 1.8), (-3.5, 1.8, 0.0), (1.8, 0.0, 2.5), (0.0, 2.5, -3.5), (2.5, -3.5, -3.5), (-3.5, -3.5, 1.8)]\n"
          ],
          "name": "stdout"
        }
      ]
    },
    {
      "cell_type": "markdown",
      "metadata": {
        "id": "jBClALoJyhjT",
        "colab_type": "text"
      },
      "source": [
        "### Addition of the Kyte-Doolittle hydrophobicity scores for each window"
      ]
    },
    {
      "cell_type": "code",
      "metadata": {
        "id": "K3dKw8EJyhjT",
        "colab_type": "code",
        "colab": {},
        "outputId": "7eb28c84-c579-4f86-86e4-89d2b49f903f"
      },
      "source": [
        "import numpy as np\n",
        "import numpy\n",
        "subList = np.array(subList)\n",
        "sums = []\n",
        "\n",
        "def sumArray(array):\n",
        "    a = sum(array)\n",
        "    sums.append(a)\n",
        "\n",
        "for i in range(len(subList)):\n",
        "        print(subList[i])\n",
        "        sumArray(subList[i])\n",
        "len(sums)"
      ],
      "execution_count": 0,
      "outputs": [
        {
          "output_type": "stream",
          "text": [
            "[1.8 0.  2.5]\n",
            "[ 0.   2.5 -3.5]\n",
            "[ 2.5 -3.5 -3.5]\n",
            "[-3.5 -3.5  1.8]\n",
            "[-3.5  1.8  0. ]\n",
            "[1.8 0.  2.5]\n",
            "[ 0.   2.5 -3.5]\n",
            "[ 2.5 -3.5 -3.5]\n",
            "[-3.5 -3.5  1.8]\n",
            "[-3.5  1.8  0. ]\n",
            "[1.8 0.  2.5]\n",
            "[ 0.   2.5 -3.5]\n",
            "[ 2.5 -3.5 -3.5]\n",
            "[-3.5 -3.5  1.8]\n",
            "[-3.5  1.8  0. ]\n",
            "[1.8 0.  2.5]\n",
            "[ 0.   2.5 -3.5]\n",
            "[ 2.5 -3.5 -3.5]\n",
            "[-3.5 -3.5  1.8]\n",
            "[-3.5  1.8  0. ]\n",
            "[1.8 0.  2.5]\n",
            "[ 0.   2.5 -3.5]\n",
            "[ 2.5 -3.5 -3.5]\n",
            "[-3.5 -3.5  1.8]\n"
          ],
          "name": "stdout"
        },
        {
          "output_type": "execute_result",
          "data": {
            "text/plain": [
              "24"
            ]
          },
          "metadata": {
            "tags": []
          },
          "execution_count": 17
        }
      ]
    },
    {
      "cell_type": "markdown",
      "metadata": {
        "id": "b_etiQFyyhjW",
        "colab_type": "text"
      },
      "source": [
        "### Obtaining the average hydropathy for each window"
      ]
    },
    {
      "cell_type": "code",
      "metadata": {
        "id": "Qk5rIntUyhjX",
        "colab_type": "code",
        "colab": {},
        "outputId": "d2ef3898-47f2-4466-cd6f-945cd2c1b05e"
      },
      "source": [
        "averages = []\n",
        "for y in sums:\n",
        "    averages = [x/windowsize for x in sums]\n",
        "averages"
      ],
      "execution_count": 0,
      "outputs": [
        {
          "output_type": "execute_result",
          "data": {
            "text/plain": [
              "[1.4333333333333333,\n",
              " -0.3333333333333333,\n",
              " -1.5,\n",
              " -1.7333333333333334,\n",
              " -0.5666666666666667,\n",
              " 1.4333333333333333,\n",
              " -0.3333333333333333,\n",
              " -1.5,\n",
              " -1.7333333333333334,\n",
              " -0.5666666666666667,\n",
              " 1.4333333333333333,\n",
              " -0.3333333333333333,\n",
              " -1.5,\n",
              " -1.7333333333333334,\n",
              " -0.5666666666666667,\n",
              " 1.4333333333333333,\n",
              " -0.3333333333333333,\n",
              " -1.5,\n",
              " -1.7333333333333334,\n",
              " -0.5666666666666667,\n",
              " 1.4333333333333333,\n",
              " -0.3333333333333333,\n",
              " -1.5,\n",
              " -1.7333333333333334]"
            ]
          },
          "metadata": {
            "tags": []
          },
          "execution_count": 18
        }
      ]
    },
    {
      "cell_type": "markdown",
      "metadata": {
        "id": "ZTAWONsgyhjZ",
        "colab_type": "text"
      },
      "source": [
        "###  Calculating the amino acid positions in the middle of each window (x-axis)"
      ]
    },
    {
      "cell_type": "code",
      "metadata": {
        "id": "gZUfnQPpyhjZ",
        "colab_type": "code",
        "colab": {},
        "outputId": "2f98135f-d195-4bb8-871f-5c4072d776d2"
      },
      "source": [
        "import math\n",
        "import numpy as np\n",
        "\n",
        "first_middle = windowsize/2\n",
        "first_middle = math.ceil(first_middle)\n",
        "last_middle = len(theList)-windowsize+first_middle\n",
        "\n",
        "x_axis = np.arange(first_middle, last_middle+1)\n",
        "x_axis"
      ],
      "execution_count": 0,
      "outputs": [
        {
          "output_type": "execute_result",
          "data": {
            "text/plain": [
              "array([ 2,  3,  4,  5,  6,  7,  8,  9, 10, 11, 12, 13, 14, 15, 16, 17, 18,\n",
              "       19, 20, 21, 22, 23, 24, 25])"
            ]
          },
          "metadata": {
            "tags": []
          },
          "execution_count": 19
        }
      ]
    },
    {
      "cell_type": "code",
      "metadata": {
        "id": "ysLvG4szyhjb",
        "colab_type": "code",
        "colab": {},
        "outputId": "cf95fcaf-8bed-40dc-847c-f8e6dd1caa1a"
      },
      "source": [
        "averages = np.array(averages)\n",
        "averages"
      ],
      "execution_count": 0,
      "outputs": [
        {
          "output_type": "execute_result",
          "data": {
            "text/plain": [
              "array([ 1.43333333, -0.33333333, -1.5       , -1.73333333, -0.56666667,\n",
              "        1.43333333, -0.33333333, -1.5       , -1.73333333, -0.56666667,\n",
              "        1.43333333, -0.33333333, -1.5       , -1.73333333, -0.56666667,\n",
              "        1.43333333, -0.33333333, -1.5       , -1.73333333, -0.56666667,\n",
              "        1.43333333, -0.33333333, -1.5       , -1.73333333])"
            ]
          },
          "metadata": {
            "tags": []
          },
          "execution_count": 20
        }
      ]
    },
    {
      "cell_type": "markdown",
      "metadata": {
        "id": "UWaSo-2Jyhjd",
        "colab_type": "text"
      },
      "source": [
        "### The hydropathy plot"
      ]
    },
    {
      "cell_type": "code",
      "metadata": {
        "scrolled": true,
        "id": "3La_YbAyyhje",
        "colab_type": "code",
        "colab": {},
        "outputId": "f2fee898-6e89-48c0-bff2-b1f5aa2a84f4"
      },
      "source": [
        "import matplotlib.pyplot as plt\n",
        "plt.plot(x_axis, averages) \n",
        "plt.xlabel('amino acid position in the middle of each window') \n",
        "plt.ylabel('average hydropathy for window') \n",
        "plt.title('Hydropathy plot') \n",
        "plt.show()"
      ],
      "execution_count": 0,
      "outputs": [
        {
          "output_type": "display_data",
          "data": {
            "image/png": "[encoded data removed]",
            "text/plain": [
              "<Figure size 432x288 with 1 Axes>"
            ]
          },
          "metadata": {
            "tags": [],
            "needs_background": "light"
          }
        }
      ]
    },
    {
      "cell_type": "code",
      "metadata": {
        "id": "G_e3eSMryhjg",
        "colab_type": "code",
        "colab": {}
      },
      "source": [
        ""
      ],
      "execution_count": 0,
      "outputs": []
    }
  ]
}